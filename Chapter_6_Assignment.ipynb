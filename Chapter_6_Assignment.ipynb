{
  "nbformat": 4,
  "nbformat_minor": 0,
  "metadata": {
    "kernelspec": {
      "display_name": "Python 3",
      "language": "python",
      "name": "python3"
    },
    "language_info": {
      "codemirror_mode": {
        "name": "ipython",
        "version": 3
      },
      "file_extension": ".py",
      "mimetype": "text/x-python",
      "name": "python",
      "nbconvert_exporter": "python",
      "pygments_lexer": "ipython3",
      "version": "3.6.1"
    },
    "colab": {
      "name": "Chapter 6 -Assignment.ipynb",
      "provenance": [],
      "collapsed_sections": [],
      "include_colab_link": true
    }
  },
  "cells": [
    {
      "cell_type": "markdown",
      "metadata": {
        "id": "view-in-github",
        "colab_type": "text"
      },
      "source": [
        "<a href=\"https://colab.research.google.com/github/cmorris2945/CNN_TELOMERES/blob/master/Chapter_6_Assignment.ipynb\" target=\"_parent\"><img src=\"https://colab.research.google.com/assets/colab-badge.svg\" alt=\"Open In Colab\"/></a>"
      ]
    },
    {
      "cell_type": "markdown",
      "metadata": {
        "id": "AOvixVy2U5lY"
      },
      "source": [
        "<img src=\"https://www.digitalvidya.com/wp-content/uploads/2013/05/Digital-Vidya-Website-Logo-HD-2-300x95.png\">"
      ]
    },
    {
      "cell_type": "markdown",
      "metadata": {
        "id": "hYlmia-MU5lb"
      },
      "source": [
        "This assignment is almost like a small project. By now you have accumulated sufficient skills to be able to solve problems that a Python developer would do in their work. \n",
        "<br> It is very often when we are required to analyse a trace log of a given software or troubleshooting or regular maintenance. \n",
        "<br> In this project we will take one such example of a HTTP log. Apache HTTP web server is one of the most popular web servers and it logs all traffic information to a file called \"access\" log. \n",
        "\n",
        "**What is HTTP access log?**\n",
        "<br> One of the many pieces of the Website puzzle is Web logs. Traffic analysis is central to most Websites, and the key to getting the most out of your traffic analysis revolves around how you configure your Web logs. Apache is one of the most, if not the most powerful open source solutions for Website operations. You will find that Apache’s Web logging features are flexible for the single Website or for managing numerous domains requiring Web log analysis.\n",
        "<br> Following is an example of the information that is written to a access log file.\n",
        "dialup02.aloha.com - - [01/Jun/1995:00:57:12 -0600] \"GET /~lowey/encyclopedia/help.html\" 200 2570\n",
        "\n",
        "1. Host making the request. Hosts are identified as either local or remote.\n",
        "\n",
        "2. Timestamp in the format \"DAY MON DD HH:MM:SS YYYY\", where DAY is the day of the week, MON is the name of the month, DD is the day of the month, HH:MM:SS is the time of day using a 24-hour clock, and YYYY is the year. The timezone is -0700 between 30/Oct/1994:01:30:57 and 02/Apr/1995:03:03:26. For all other requests, the timezone is -0600.\n",
        "\n",
        "3. HTTP method GET/POST followed by the url. \n",
        "\n",
        "4. HTTP reply code.\n",
        "\n",
        "5. Bytes in the reply.\n",
        "\n",
        "## Objective of the project : \n",
        "<br> To understand how the company's website is performing\n",
        "    <br>a) What are the different webpages coming in?\n",
        "    <br>b) What is the frequency of hits?\n",
        "    <br>c) What is the time interval in which the most accessed url being hit?\n",
        "    \n",
        "<font color=orange>### IMPORTANT NOTE </font>\n",
        "<br> Typically, access log files have millions of rows for the practice purpose we have trimmed it down to a few lines.\n",
        "\n",
        "## How to achieve these objectives as a programmer?\n",
        "You are encouraged to do your own designing for this problem. Once you have identified the different functions, you can then  refer against this particular solution.\n",
        "You may do an exercise of checking the elegancy of the solution.\n",
        "\n",
        "## Thinking functions\n",
        "> Opening a file, reading it and displaying its contents\n",
        "> <br>Conversion from datetime to string and vice versa\n",
        "> <br>Using regular expressions to extract relevant text out of whole text\n",
        "> <br>Writing to a file\n",
        "> <br>Of course, creating functions\n"
      ]
    },
    {
      "cell_type": "markdown",
      "metadata": {
        "id": "HhwcZ29bU5lc"
      },
      "source": [
        "**Q. Create a function to display first n lines of a file**"
      ]
    },
    {
      "cell_type": "code",
      "metadata": {
        "collapsed": true,
        "id": "sU-rsxwzU5ld"
      },
      "source": [
        "def show_contents(file_name, no_of_lines): \n",
        "    '''\n",
        "    Open the file and use read() method to show the contents of the file\n",
        "    Show only n number of lines.\n",
        "    Use try-except\n",
        "    '''\n",
        "    # Start Code Here\n",
        "    try:\n",
        "      with open(file_name) as f:\n",
        "         \n",
        "        for index, line in enumerate(f):\n",
        "        \n",
        "          # This statement below will never be true, because for \"number of lines == 0\"  -->> if index == no_of_lines-1: If you us this in the if statement\n",
        "          if index < no_of_lines:\n",
        "          \n",
        "            print(line)\n",
        "          else:\n",
        "            break\n",
        "        #if index < no_of_lines:\n",
        "          #raise UserWarning(\"You requested more lies tha you requested i the actual file\")\n",
        "    except FileNotFoundError:\n",
        "      print(\"I need a file to run through...\") \n",
        "    # End Code Here"
      ],
      "execution_count": 6,
      "outputs": []
    },
    {
      "cell_type": "code",
      "metadata": {
        "id": "1PiaaLjn6DGm"
      },
      "source": [
        ""
      ],
      "execution_count": 6,
      "outputs": []
    },
    {
      "cell_type": "code",
      "metadata": {
        "id": "2L957vlO6DL2"
      },
      "source": [
        ""
      ],
      "execution_count": 6,
      "outputs": []
    },
    {
      "cell_type": "code",
      "metadata": {
        "scrolled": true,
        "colab": {
          "base_uri": "https://localhost:8080/"
        },
        "id": "7sloWkTnU5le",
        "outputId": "f442a07a-d76b-4334-99f3-0f89d2da7719"
      },
      "source": [
        "show_contents(\"usask_access_log.txt\", 5)"
      ],
      "execution_count": 7,
      "outputs": [
        {
          "output_type": "stream",
          "text": [
            "dialup02.aloha.com - - [01/Jun/1995:00:57:12 -0600] \"GET /~lowey/encyclopedia/help.html\" 200 2570\n",
            "\n",
            "dialup02.aloha.com - - [01/Jun/1995:00:58:23 -0600] \"GET /~lowey/encyclopedia/volume_index.html\" 200 7445\n",
            "\n",
            "fire.server.net - - [01/Jun/1995:00:59:21 -0600] \"GET /~scottp/free.html\" 200 5759\n",
            "\n",
            "fire.server.net - - [01/Jun/1995:00:59:22 -0600] \"GET /~scottp/fn1.gif\" 200 2164\n",
            "\n",
            "dialup02.aloha.com - - [01/Jun/1995:00:59:40 -0600] \"GET /~lowey/encyclopedia/m/index.html\" 200 1898\n",
            "\n"
          ],
          "name": "stdout"
        }
      ]
    },
    {
      "cell_type": "markdown",
      "metadata": {
        "id": "tCm9W6q8U5lf"
      },
      "source": [
        "<table>\n",
        "  <tr style = \"align : left\">\n",
        "  <td>**Expected Output:**<td>\n",
        "    <td style=\"text-align:left\">dialup02.aloha.com - - [01/Jun/1995:00:57:12 -0600] \"GET /~lowey/encyclopedia/help.html\" 200 2570\n",
        "\n",
        "<br>dialup02.aloha.com - - [01/Jun/1995:00:58:23 -0600] \"GET /~lowey/encyclopedia/volume_index.html\" 200 7445\n",
        "\n",
        "<br>fire.server.net - - [01/Jun/1995:00:59:21 -0600] \"GET /~scottp/free.html\" 200 5759\n",
        "\n",
        "<br>fire.server.net - - [01/Jun/1995:00:59:22 -0600] \"GET /~scottp/fn1.gif\" 200 2164\n",
        "\n",
        "<br>dialup02.aloha.com - - [01/Jun/1995:00:59:40 -0600] \"GET /~lowey/encyclopedia/m/index.html\" 200 1898</td>\n",
        "  </tr>\n",
        "</table>\n",
        "    "
      ]
    },
    {
      "cell_type": "markdown",
      "metadata": {
        "collapsed": true,
        "id": "3v1izHe-U5lg"
      },
      "source": [
        "**Q. Print total number of unique urls**\n",
        "\n",
        "In this question you need to use regular expression.\n",
        "\n",
        "In case you have not come accross regular expression:\n",
        "\n",
        "We have used re.search method. (https://docs.python.org/3.6/library/re.html#re.search)\n",
        "\n",
        "We have already implemented the solution for this question."
      ]
    },
    {
      "cell_type": "code",
      "metadata": {
        "collapsed": true,
        "id": "-XwEsF4nU5lg"
      },
      "source": [
        "import re\n",
        "\n",
        "def get_urls(file_name):\n",
        "    '''\n",
        "        Create a set of unique urls using regex\n",
        "        Returns:\n",
        "            unique_urls : list of unique urls\n",
        "            all_urls : list of all urls\n",
        "    '''\n",
        "    unique_urls = set()\n",
        "    all_urls = []\n",
        "    \n",
        "    with open(file_name) as f:\n",
        "        \n",
        "        for line in f:\n",
        "            searchObj = re.search( r'([\"\"])[^\\1]*\\1', line)    \n",
        "\n",
        "            if searchObj:\n",
        "                s = searchObj.group()\n",
        "                if s.startswith('\"'):                   # removing starting double quotes\n",
        "                    s = s[1:] \n",
        "    \n",
        "                if s.endswith('\"'):                      # removing ending double quotes\n",
        "                    s = s[:-1]\n",
        "                    \n",
        "                unique_urls.add(s)\n",
        "                all_urls.append(s)\n",
        "            else:\n",
        "                pass \n",
        "    \n",
        "    return unique_urls,all_urls"
      ],
      "execution_count": 8,
      "outputs": []
    },
    {
      "cell_type": "code",
      "metadata": {
        "collapsed": true,
        "id": "m7F_gLkrU5lh"
      },
      "source": [
        "unique_urls,all_urls = get_urls(\"usask_access_log.txt\")"
      ],
      "execution_count": 9,
      "outputs": []
    },
    {
      "cell_type": "code",
      "metadata": {
        "colab": {
          "base_uri": "https://localhost:8080/"
        },
        "id": "-_UZbBkxU5li",
        "outputId": "74c01509-b849-4044-ee96-431f7068bce0"
      },
      "source": [
        "len(unique_urls)"
      ],
      "execution_count": 10,
      "outputs": [
        {
          "output_type": "execute_result",
          "data": {
            "text/plain": [
              "133"
            ]
          },
          "metadata": {
            "tags": []
          },
          "execution_count": 10
        }
      ]
    },
    {
      "cell_type": "markdown",
      "metadata": {
        "id": "YBJCmjteU5li"
      },
      "source": [
        "<table>\n",
        "  <tr>\n",
        "  <td>**Expected Output:**<td>\n",
        "    <td>133</td>\n",
        "  </tr>\n",
        "</table>  "
      ]
    },
    {
      "cell_type": "code",
      "metadata": {
        "colab": {
          "base_uri": "https://localhost:8080/"
        },
        "id": "XCHcF08IU5lj",
        "outputId": "37eaa995-3f41-4c0a-f74d-54a97ff26dbf"
      },
      "source": [
        "len(all_urls)"
      ],
      "execution_count": 11,
      "outputs": [
        {
          "output_type": "execute_result",
          "data": {
            "text/plain": [
              "217"
            ]
          },
          "metadata": {
            "tags": []
          },
          "execution_count": 11
        }
      ]
    },
    {
      "cell_type": "markdown",
      "metadata": {
        "id": "IZ5-WAiXU5lj"
      },
      "source": [
        "<table>\n",
        "  <tr>\n",
        "  <td>**Expected Output:**<td>\n",
        "    <td>217</td>\n",
        "  </tr>\n",
        "</table>  "
      ]
    },
    {
      "cell_type": "markdown",
      "metadata": {
        "id": "8C3F4Bv-U5lj"
      },
      "source": [
        "** Q Find the first five  most frequent urls.**\n",
        "\n",
        "Note : Use Counter from collections module.\n",
        "\n",
        "https://docs.python.org/3.6/library/collections.html#collections.Counter\n"
      ]
    },
    {
      "cell_type": "code",
      "metadata": {
        "collapsed": true,
        "id": "EScxQA07U5lk"
      },
      "source": [
        "from collections import Counter\n",
        "\n",
        "def frequency(urls):\n",
        "    '''\n",
        "        Using Counter create a dictionary with key as url and the corresponding frequency as value\n",
        "    '''\n",
        "    # Start Code Here\n",
        "    c = Counter(urls).most_common()\n",
        "    return c\n",
        "\n",
        "    # End Code Here"
      ],
      "execution_count": 12,
      "outputs": []
    },
    {
      "cell_type": "code",
      "metadata": {
        "colab": {
          "base_uri": "https://localhost:8080/"
        },
        "id": "uRiZOcyqU5lk",
        "outputId": "e75b7ba5-0ab9-43e6-fb01-65dd4b1f2cd4"
      },
      "source": [
        "frequency(all_urls)[:5]"
      ],
      "execution_count": 13,
      "outputs": [
        {
          "output_type": "execute_result",
          "data": {
            "text/plain": [
              "[('GET /~scottp/free.html', 15),\n",
              " ('GET /~scottp/publish.html', 7),\n",
              " ('GET /~macphed/finite/fe_resources/fe_resources.html', 7),\n",
              " ('GET /~scottp/fn1.gif', 5),\n",
              " ('GET /~macphed/finite/fe_resources/node1.html', 4)]"
            ]
          },
          "metadata": {
            "tags": []
          },
          "execution_count": 13
        }
      ]
    },
    {
      "cell_type": "markdown",
      "metadata": {
        "id": "sDkVLGe1U5lk"
      },
      "source": [
        ""
      ]
    },
    {
      "cell_type": "markdown",
      "metadata": {
        "id": "9OSwBTU_U5lk"
      },
      "source": [
        "\n",
        "\n",
        "**Q Parse the timestamp and create a list of dictionaries containing the date, hour, minutes, seconds of each row in the file.**"
      ]
    },
    {
      "cell_type": "code",
      "metadata": {
        "collapsed": true,
        "id": "Sqh1MhByU5ll"
      },
      "source": [
        "import re \n",
        "from datetime import date, time, datetime, timedelta\n",
        "def parse_timestamp(file_name):\n",
        "    with open(file_name) as f:\n",
        "        '''\n",
        "        This function takes file name as input and returns two lists \n",
        "            1. timestamp_list - List containing all timestamps eg. 01/Jun/1995:00:59:53\n",
        "            2. timestamp - List containing all timestamps in the form of dictionaries containing the date, hour, minutes, seconds of each row in the file\n",
        "        \n",
        "        '''\n",
        "        # Start Code Here\n",
        "        timestamp_list = []\n",
        "        timestamp = []\n",
        "        \n",
        "        for line in f:\n",
        "            searchObj = re.search( r'\\[.*\\]', line)\n",
        "            if searchObj:\n",
        "              s = searchObj.group()\n",
        "              s = s[1:-1]\n",
        "              s = s.split()[0]\n",
        "              timestamp_list.append(s)\n",
        "              dt = datetime.strptime(s, '%d/%b/%Y:%H:%M:%S')\n",
        "              time_stamp_dict = {}\n",
        "              time_stamp_dict[\"date\"] = dt.strftime('%d/%b/%Y')\n",
        "              time_stamp_dict[\"hour\"] = dt.strftime('%H')\n",
        "              time_stamp_dict[\"minutes\"] = dt.strftime('%M')\n",
        "              time_stamp_dict[\"seconds\"] = dt.strftime('%S')\n",
        "              timestamp.append(time_stamp_dict) \n",
        "\n",
        "\n",
        "        # End Code Here\n",
        "                \n",
        "    return timestamp_list, timestamp"
      ],
      "execution_count": 14,
      "outputs": []
    },
    {
      "cell_type": "code",
      "metadata": {
        "collapsed": true,
        "id": "e4Nh5u4WU5ll"
      },
      "source": [
        "timestamp_list, timestamp = parse_timestamp(\"usask_access_log.txt\")"
      ],
      "execution_count": 15,
      "outputs": []
    },
    {
      "cell_type": "code",
      "metadata": {
        "colab": {
          "base_uri": "https://localhost:8080/"
        },
        "id": "Qh3Dos2TU5ll",
        "outputId": "26d4580f-c7ea-4a16-9470-e61a6a632e7f"
      },
      "source": [
        "# first 5\n",
        "\n",
        "timestamp_list[:5]"
      ],
      "execution_count": 16,
      "outputs": [
        {
          "output_type": "execute_result",
          "data": {
            "text/plain": [
              "['01/Jun/1995:00:57:12',\n",
              " '01/Jun/1995:00:58:23',\n",
              " '01/Jun/1995:00:59:21',\n",
              " '01/Jun/1995:00:59:22',\n",
              " '01/Jun/1995:00:59:40']"
            ]
          },
          "metadata": {
            "tags": []
          },
          "execution_count": 16
        }
      ]
    },
    {
      "cell_type": "markdown",
      "metadata": {
        "id": "vLKA0Rd5U5lm"
      },
      "source": [
        "<table>\n",
        "  <tr>\n",
        "  <td>**Expected Output:**<td>\n",
        "    <td>['01/Jun/1995:00:57:12',\n",
        " <br>'01/Jun/1995:00:58:23',\n",
        " <br>'01/Jun/1995:00:59:21',\n",
        " <br>'01/Jun/1995:00:59:22',\n",
        " <br>'01/Jun/1995:00:59:40']</td>\n",
        "  </tr>\n",
        "</table>"
      ]
    },
    {
      "cell_type": "code",
      "metadata": {
        "colab": {
          "base_uri": "https://localhost:8080/"
        },
        "id": "5ycKY2MLU5lm",
        "outputId": "8b2bff5e-e432-4b92-a98d-6227f5c8a392"
      },
      "source": [
        "# first 5\n",
        "\n",
        "timestamp[:5]"
      ],
      "execution_count": 17,
      "outputs": [
        {
          "output_type": "execute_result",
          "data": {
            "text/plain": [
              "[{'date': '01/Jun/1995', 'hour': '00', 'minutes': '57', 'seconds': '12'},\n",
              " {'date': '01/Jun/1995', 'hour': '00', 'minutes': '58', 'seconds': '23'},\n",
              " {'date': '01/Jun/1995', 'hour': '00', 'minutes': '59', 'seconds': '21'},\n",
              " {'date': '01/Jun/1995', 'hour': '00', 'minutes': '59', 'seconds': '22'},\n",
              " {'date': '01/Jun/1995', 'hour': '00', 'minutes': '59', 'seconds': '40'}]"
            ]
          },
          "metadata": {
            "tags": []
          },
          "execution_count": 17
        }
      ]
    },
    {
      "cell_type": "markdown",
      "metadata": {
        "id": "nP6nvOCsU5lm"
      },
      "source": [
        "<table>\n",
        "  <tr>\n",
        "  <td>**Expected Output:**<td>\n",
        "    <td>[{'date': '01/Jun/1995', 'hours': '00', 'minutes': '57', 'seconds': '12'},\n",
        " <br>{'date': '01/Jun/1995', 'hours': '00', 'minutes': '58', 'seconds': '23'},\n",
        " <br>{'date': '01/Jun/1995', 'hours': '00', 'minutes': '59', 'seconds': '21'},\n",
        " <br>{'date': '01/Jun/1995', 'hours': '00', 'minutes': '59', 'seconds': '22'},\n",
        " <br>{'date': '01/Jun/1995', 'hours': '00', 'minutes': '59', 'seconds': '40'}]</td>\n",
        "  </tr>\n",
        "</table>\n",
        "    "
      ]
    },
    {
      "cell_type": "markdown",
      "metadata": {
        "id": "oojPjKykU5lm"
      },
      "source": [
        "**Q. In all the timestamps replace month name with month number and convert all the strings to datetime store them in a new list called as timestamp_datetime_list**"
      ]
    },
    {
      "cell_type": "code",
      "metadata": {
        "collapsed": true,
        "id": "ohA-FNhcU5ln"
      },
      "source": [
        "from datetime import date,time,datetime,timedelta"
      ],
      "execution_count": 21,
      "outputs": []
    },
    {
      "cell_type": "code",
      "metadata": {
        "collapsed": true,
        "id": "EVILDUMAU5ln"
      },
      "source": [
        "def string_to_date(string_date):\n",
        "    '''\n",
        "        Convert string to date using strptime() method\n",
        "    '''\n",
        "    # Start Code Here\n",
        "\n",
        "    return datetime.strptime(string_date, '%d/%b/%Y:%H:%M:%S')\n",
        "\n",
        "\n",
        "   # 01/Jun/1995:00:57:12\n",
        "    # End Code Here"
      ],
      "execution_count": 25,
      "outputs": []
    },
    {
      "cell_type": "code",
      "metadata": {
        "colab": {
          "base_uri": "https://localhost:8080/"
        },
        "id": "W5n1uQ03hRYR",
        "outputId": "171af76c-145a-4546-c523-d704ec72a529"
      },
      "source": [
        "print(string_to_date(timestamp_list[0]))"
      ],
      "execution_count": 28,
      "outputs": [
        {
          "output_type": "stream",
          "text": [
            "1995-06-01 00:57:12\n"
          ],
          "name": "stdout"
        }
      ]
    },
    {
      "cell_type": "code",
      "metadata": {
        "collapsed": true,
        "id": "TqP3z5c3U5ln"
      },
      "source": [
        "def replace_month(string):\n",
        "    \n",
        "    # Start Code Here\n",
        "    dt = string_to_date(string)\n",
        "    return dt.strftime('%d/%m/%Y:%H:%M:%S')\n",
        "\n",
        "    # End Code Here"
      ],
      "execution_count": 29,
      "outputs": []
    },
    {
      "cell_type": "code",
      "metadata": {
        "collapsed": true,
        "scrolled": true,
        "id": "JHgng8-gU5ln"
      },
      "source": [
        "# Start Code Here\n",
        "\n",
        "timestamp_datetime_list = [string_to_date(ts) for ts in timestamp_list]\n",
        "\n",
        "\n",
        "\n",
        "# End Code Here"
      ],
      "execution_count": 32,
      "outputs": []
    },
    {
      "cell_type": "code",
      "metadata": {
        "id": "uJCkxOHpU5ln",
        "colab": {
          "base_uri": "https://localhost:8080/"
        },
        "outputId": "33986d1b-9e18-4fef-e637-4dc909509c9b"
      },
      "source": [
        "timestamp_datetime_list[:5]"
      ],
      "execution_count": 33,
      "outputs": [
        {
          "output_type": "execute_result",
          "data": {
            "text/plain": [
              "[datetime.datetime(1995, 6, 1, 0, 57, 12),\n",
              " datetime.datetime(1995, 6, 1, 0, 58, 23),\n",
              " datetime.datetime(1995, 6, 1, 0, 59, 21),\n",
              " datetime.datetime(1995, 6, 1, 0, 59, 22),\n",
              " datetime.datetime(1995, 6, 1, 0, 59, 40)]"
            ]
          },
          "metadata": {
            "tags": []
          },
          "execution_count": 33
        }
      ]
    },
    {
      "cell_type": "markdown",
      "metadata": {
        "id": "huNinxgxU5lo"
      },
      "source": [
        "<table>\n",
        "  <tr>\n",
        "  <td>**Expected Output:**<td>\n",
        "    <td>[datetime.datetime(1995, 6, 1, 0, 57, 12),\n",
        " <br>datetime.datetime(1995, 6, 1, 0, 58, 23),\n",
        " <br>datetime.datetime(1995, 6, 1, 0, 59, 21),\n",
        " <br>datetime.datetime(1995, 6, 1, 0, 59, 22),\n",
        " <br>datetime.datetime(1995, 6, 1, 0, 59, 40)]</td>\n",
        "  </tr>\n",
        "</table>\n",
        "    "
      ]
    },
    {
      "cell_type": "markdown",
      "metadata": {
        "id": "jmalHjEgU5lo"
      },
      "source": [
        "**Q. Find the difference in time between the first and last log**"
      ]
    },
    {
      "cell_type": "code",
      "metadata": {
        "collapsed": true,
        "id": "qB7kiJ8DU5lo"
      },
      "source": [
        "\n",
        "def find_difference(start,end):\n",
        "    \n",
        "    # Start Code Here\n",
        "\n",
        "  return end - start\n",
        "\n",
        "\n",
        "\n",
        "    # End Code Here"
      ],
      "execution_count": 34,
      "outputs": []
    },
    {
      "cell_type": "code",
      "metadata": {
        "id": "0m9kLj8WU5lp",
        "colab": {
          "base_uri": "https://localhost:8080/"
        },
        "outputId": "eed6e432-3771-4d7e-f7dd-f9a5937043e3"
      },
      "source": [
        "difference = find_difference(timestamp_datetime_list[0],timestamp_datetime_list[-1])\n",
        "\n",
        "print(\"Difference in minutes is %f\" % (difference.total_seconds()//60))"
      ],
      "execution_count": 35,
      "outputs": [
        {
          "output_type": "stream",
          "text": [
            "Difference in minutes is 268.000000\n"
          ],
          "name": "stdout"
        }
      ]
    },
    {
      "cell_type": "markdown",
      "metadata": {
        "id": "VirwCIwVU5lp"
      },
      "source": [
        "<table>\n",
        "  <tr>\n",
        "  <td>**Expected Output:**<td>\n",
        "    <td>Difference in minutes is 268.000000</td>\n",
        "  </tr>\n",
        "</table>"
      ]
    },
    {
      "cell_type": "markdown",
      "metadata": {
        "id": "9PWpVXbVU5lq"
      },
      "source": [
        "**Q. Open a file and save the urls and the timestamp corresponding to it and display first 5 rows**\n",
        "\n",
        "Format :\n",
        "    \n",
        "url timestamp"
      ]
    },
    {
      "cell_type": "code",
      "metadata": {
        "collapsed": true,
        "id": "FF6PbARLU5lt"
      },
      "source": [
        "def save_file(file_name,urls, timestamp_list):\n",
        "    '''\n",
        "        Open file in write mode and then check whether length of url list and timestamp list is same.\n",
        "        If it is then write url  timestamp to the file.\n",
        "    '''\n",
        "    # Start Code Here\n",
        "    with open(file_name, 'w') as f:\n",
        "      if len(urls) == len(timestamp_list):\n",
        "        \n",
        "        for url, time in zip(urls, timestamp_list):\n",
        "          f.writelines(f\"{url} {time}\\n\")\n",
        "\n",
        "    \n",
        "\n",
        "    # End Code Here      "
      ],
      "execution_count": 43,
      "outputs": []
    },
    {
      "cell_type": "code",
      "metadata": {
        "collapsed": true,
        "id": "li90a_JvU5lt"
      },
      "source": [
        "save_file(\"Filtered timestamp\", all_urls, timestamp_list)"
      ],
      "execution_count": 44,
      "outputs": []
    },
    {
      "cell_type": "code",
      "metadata": {
        "id": "saDsYmlEU5lu",
        "colab": {
          "base_uri": "https://localhost:8080/"
        },
        "outputId": "8276be48-e82e-4c5c-d92e-bd0b2f8b2a07"
      },
      "source": [
        "show_contents(\"Filtered timestamp\", 5)"
      ],
      "execution_count": 45,
      "outputs": [
        {
          "output_type": "stream",
          "text": [
            "GET /~lowey/encyclopedia/help.html 01/Jun/1995:00:57:12\n",
            "\n",
            "GET /~lowey/encyclopedia/volume_index.html 01/Jun/1995:00:58:23\n",
            "\n",
            "GET /~scottp/free.html 01/Jun/1995:00:59:21\n",
            "\n",
            "GET /~scottp/fn1.gif 01/Jun/1995:00:59:22\n",
            "\n",
            "GET /~lowey/encyclopedia/m/index.html 01/Jun/1995:00:59:40\n",
            "\n"
          ],
          "name": "stdout"
        }
      ]
    },
    {
      "cell_type": "markdown",
      "metadata": {
        "id": "b522qeXMU5lv"
      },
      "source": [
        "<table>\n",
        "  <tr>\n",
        "  <td>**Expected Output:**<td>\n",
        "    <td>GET /~lowey/encyclopedia/help.html    01/6/1995:00:57:12\n",
        "\n",
        "<br>GET /~lowey/encyclopedia/volume_index.html    01/6/1995:00:58:23\n",
        "\n",
        "<br>GET /~scottp/free.html    01/6/1995:00:59:21\n",
        "\n",
        "<br>GET /~scottp/fn1.gif    01/6/1995:00:59:22\n",
        "\n",
        "<br>GET /~lowey/encyclopedia/m/index.html    01/6/1995:00:59:40</td>\n",
        "  </tr>\n",
        "</table>\n",
        "    "
      ]
    },
    {
      "cell_type": "markdown",
      "metadata": {
        "id": "lngOdVIOU5lv"
      },
      "source": [
        "**Q. Finally create a function main() which will call all the above functions and print the outputs.**\n",
        "\n",
        "1. Open the file\n",
        "2. Show the contents of the file\n",
        "3. Print all the unique urls\n",
        "4. Print all the urls\n",
        "5. Print the frequencies of the urls\n",
        "6. Parse timestamp to get the timestamps from each record\n",
        "7. Save the url and the corresponding timestamp to a file\n",
        "8. Show the contents of the newly created file"
      ]
    },
    {
      "cell_type": "code",
      "metadata": {
        "collapsed": true,
        "id": "eTlTvCSVU5lw"
      },
      "source": [
        "import itertools\n",
        "\n",
        "def main():\n",
        "    \n",
        "    file_name = \"usask_access_log.txt\"\n",
        "    \n",
        "    print(\"The contents of the file are:\")\n",
        "    print()\n",
        "    show_contents(file_name, 5)\n",
        "    unique_urls, all_urls = get_urls(file_name)\n",
        "    print()\n",
        "    \n",
        "    print(\"First five unique urls are:\")\n",
        "    print()\n",
        "    for i, val in enumerate(itertools.islice(unique_urls, 5)):\n",
        "        print(val)\n",
        "    print()\n",
        "    \n",
        "    print(\"First five urls are:\")\n",
        "    print('\\n' * 2)\n",
        "    for i in all_urls[:5]:\n",
        "        print(i)\n",
        "    print()    \n",
        "        \n",
        "    print(\"Top five frequent urls are :\")\n",
        "    print()\n",
        "    freq = frequency(all_urls)\n",
        "    print(freq[:5])\n",
        "    print()\n",
        "    \n",
        "    timestamp_list, timestamp = parse_timestamp(file_name)\n",
        "\n",
        "    for i in range(len(timestamp_list)):\n",
        "\n",
        "        timestamp_list[i] = replace_month(timestamp_list[i])\n",
        "    \n",
        "    filtered_file_name = \"Filtered timestamp\"\n",
        "    \n",
        "    print(\"Saving filtered file\")\n",
        "    print()\n",
        "    save_file(filtered_file_name, all_urls, timestamp_list)\n",
        "    print()\n",
        "    \n",
        "    print(\"The contents of the filtered file are:\")\n",
        "    print()\n",
        "    show_contents(filtered_file_name, 5)\n",
        "    print()"
      ],
      "execution_count": 48,
      "outputs": []
    },
    {
      "cell_type": "code",
      "metadata": {
        "id": "nGAFOuxEU5lw",
        "colab": {
          "base_uri": "https://localhost:8080/"
        },
        "outputId": "85ebe85c-e059-4a1a-fb21-55c0af38e010"
      },
      "source": [
        "main()"
      ],
      "execution_count": 49,
      "outputs": [
        {
          "output_type": "stream",
          "text": [
            "The contents of the file are:\n",
            "\n",
            "dialup02.aloha.com - - [01/Jun/1995:00:57:12 -0600] \"GET /~lowey/encyclopedia/help.html\" 200 2570\n",
            "\n",
            "dialup02.aloha.com - - [01/Jun/1995:00:58:23 -0600] \"GET /~lowey/encyclopedia/volume_index.html\" 200 7445\n",
            "\n",
            "fire.server.net - - [01/Jun/1995:00:59:21 -0600] \"GET /~scottp/free.html\" 200 5759\n",
            "\n",
            "fire.server.net - - [01/Jun/1995:00:59:22 -0600] \"GET /~scottp/fn1.gif\" 200 2164\n",
            "\n",
            "dialup02.aloha.com - - [01/Jun/1995:00:59:40 -0600] \"GET /~lowey/encyclopedia/m/index.html\" 200 1898\n",
            "\n",
            "\n",
            "First five unique urls are:\n",
            "\n",
            "GET /~lowey/webville/icons/letter_32.gif\n",
            "GET /~lowey/Saskatchewan/index.html\n",
            "GET /~lowey/Webville/icons/bus_32.gif\n",
            "GET /~lowey/webville/icons/sound_32.gif\n",
            "GET /~lowey/Saskatoon/about_saskatoon/weather.html\n",
            "\n",
            "First five urls are:\n",
            "\n",
            "\n",
            "\n",
            "GET /~lowey/encyclopedia/help.html\n",
            "GET /~lowey/encyclopedia/volume_index.html\n",
            "GET /~scottp/free.html\n",
            "GET /~scottp/fn1.gif\n",
            "GET /~lowey/encyclopedia/m/index.html\n",
            "\n",
            "Top five frequent urls are :\n",
            "\n",
            "[('GET /~scottp/free.html', 15), ('GET /~scottp/publish.html', 7), ('GET /~macphed/finite/fe_resources/fe_resources.html', 7), ('GET /~scottp/fn1.gif', 5), ('GET /~macphed/finite/fe_resources/node1.html', 4)]\n",
            "\n",
            "Saving filtered file\n",
            "\n",
            "\n",
            "The contents of the filtered file are:\n",
            "\n",
            "GET /~lowey/encyclopedia/help.html 01/06/1995:00:57:12\n",
            "\n",
            "GET /~lowey/encyclopedia/volume_index.html 01/06/1995:00:58:23\n",
            "\n",
            "GET /~scottp/free.html 01/06/1995:00:59:21\n",
            "\n",
            "GET /~scottp/fn1.gif 01/06/1995:00:59:22\n",
            "\n",
            "GET /~lowey/encyclopedia/m/index.html 01/06/1995:00:59:40\n",
            "\n",
            "\n"
          ],
          "name": "stdout"
        }
      ]
    },
    {
      "cell_type": "markdown",
      "metadata": {
        "id": "yDUmXwr0U5lw"
      },
      "source": [
        "<table>\n",
        "  <tr>\n",
        "  <td>**Expected Output:**<td>\n",
        "    <td style=\"text-align:left\">The contents of the file are:\n",
        "\n",
        "<br>dialup02.aloha.com - - [01/Jun/1995:00:57:12 -0600] \"GET /~lowey/encyclopedia/help.html\" 200 2570\n",
        "\n",
        "<br>dialup02.aloha.com - - [01/Jun/1995:00:58:23 -0600] \"GET /~lowey/encyclopedia/volume_index.html\" 200 7445\n",
        "\n",
        "<br>fire.server.net - - [01/Jun/1995:00:59:21 -0600] \"GET /~scottp/free.html\" 200 5759\n",
        "\n",
        "<br>fire.server.net - - [01/Jun/1995:00:59:22 -0600] \"GET /~scottp/fn1.gif\" 200 2164\n",
        "\n",
        "<br>dialup02.aloha.com - - [01/Jun/1995:00:59:40 -0600] \"GET /~lowey/encyclopedia/m/index.html\" 200 1898\n",
        "\n",
        "<br><br>\n",
        "<br>First five unique urls are:\n",
        "\n",
        "<br>GET /~macpherc/hibs/hibs.html\n",
        "<br>GET /~macphed/finite/fe_resources/node36.html\n",
        "<br>GET /~lowey/encyclopedia/help.html\n",
        "<br>GET /~macphed/finite/fe_resources/node110.html\n",
        "<br>GET /~scottp/publish.html\n",
        "<br>GET /~macpherc/images/new2.gif\n",
        "<br>GET /~lowey/webville/help/help_directions.html\n",
        "<br>GET /~macphed/finite/fe_resources/node24.html\n",
        "<br>GET /~macphed/finite/fe_resources/node91.html\n",
        "<br>GET /~macphed/finite/fe_resources/node99.html\n",
        "<br>\n",
        "<br>First five urls are:\n",
        "\n",
        "<br>GET /~lowey/encyclopedia/help.html\n",
        "<br>GET /~lowey/encyclopedia/volume_index.html\n",
        "<br>GET /~scottp/free.html\n",
        "<br>GET /~scottp/fn1.gif\n",
        "<br>GET /~lowey/encyclopedia/m/index.html\n",
        "<br>\n",
        "<br>Top five frequent urls are :\n",
        "\n",
        "<br>[('GET /~scottp/free.html', 15), ('GET /~scottp/publish.html', 7), ('GET /~macphed/finite/fe_resources/fe_resources.html', <br>7), ('GET /~scottp/fn1.gif', 5), ('GET /~macphed/finite/fe_resources/node1.html', 4)]\n",
        "<br>\n",
        "<br>Saving filtered file\n",
        "\n",
        "<br>The contents of the filtered file are:\n",
        "\n",
        "<br>GET /~lowey/encyclopedia/help.html    01/6/1995:00:57:12\n",
        "\n",
        "<br>GET /~lowey/encyclopedia/volume_index.html    01/6/1995:00:58:23\n",
        "\n",
        "<br>GET /~scottp/free.html    01/6/1995:00:59:21\n",
        "\n",
        "<br>GET /~scottp/fn1.gif    01/6/1995:00:59:22\n",
        "\n",
        "<br>GET /~lowey/encyclopedia/m/index.html    01/6/1995:00:59:40</td>\n",
        "  </tr>\n",
        "</table>\n",
        "    "
      ]
    },
    {
      "cell_type": "markdown",
      "metadata": {
        "id": "vO6JmLrHU5lx"
      },
      "source": [
        "# Congratulations\n",
        "\n",
        "You have completed a small project to analyse a log file.You are likely to reuse this code many a times in your coding career. \n",
        "<br> Good understanding of the concepts learnt in this chapter will really help you a lot when you wear the hat of a developer.\n",
        "<br>Buckle up!\n",
        "<br>You are doing very well.\n",
        "<br>See you in the next chapter."
      ]
    }
  ]
}