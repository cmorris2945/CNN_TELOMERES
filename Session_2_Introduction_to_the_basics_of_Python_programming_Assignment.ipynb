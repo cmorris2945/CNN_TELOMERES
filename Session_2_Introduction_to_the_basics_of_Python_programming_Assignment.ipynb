{
  "nbformat": 4,
  "nbformat_minor": 0,
  "metadata": {
    "kernelspec": {
      "display_name": "Python 3",
      "language": "python",
      "name": "python3"
    },
    "language_info": {
      "codemirror_mode": {
        "name": "ipython",
        "version": 3
      },
      "file_extension": ".py",
      "mimetype": "text/x-python",
      "name": "python",
      "nbconvert_exporter": "python",
      "pygments_lexer": "ipython3",
      "version": "3.6.1"
    },
    "colab": {
      "name": "Session 2-Introduction to the basics of Python programming- Assignment.ipynb",
      "provenance": [],
      "include_colab_link": true
    }
  },
  "cells": [
    {
      "cell_type": "markdown",
      "metadata": {
        "id": "view-in-github",
        "colab_type": "text"
      },
      "source": [
        "<a href=\"https://colab.research.google.com/github/cmorris2945/CNN_TELOMERES/blob/master/Session_2_Introduction_to_the_basics_of_Python_programming_Assignment.ipynb\" target=\"_parent\"><img src=\"https://colab.research.google.com/assets/colab-badge.svg\" alt=\"Open In Colab\"/></a>"
      ]
    },
    {
      "cell_type": "markdown",
      "metadata": {
        "id": "Ks86LZ9QPIfx"
      },
      "source": [
        "### Data Analytics Assignment 1 - Python Introduction\n",
        "\n",
        "Data cleansing, List, Dictionary, conditionals, loops"
      ]
    },
    {
      "cell_type": "code",
      "metadata": {
        "collapsed": true,
        "id": "NVynxGltPIfy"
      },
      "source": [
        "#You are given the batting data of qualifier between MI and KKR in the form of a nested dictionary.\n",
        "\n",
        "qualifier_2 = {'KKR' : {'Chris Lynn': 4, \n",
        "                      'Sunil Narine': 10, \n",
        "                      'Gautam Gambhir (c)': 12, \n",
        "                      'Robin Uthappa (wk)': 1, \n",
        "                      'Ishank Jaggi': 28, \n",
        "                      'Colin Grandhomme': 0,\n",
        "                      'Suryakumar Yadav': 31,\n",
        "                      'Piyush Chawla': 2,\n",
        "                      'Nathan Coulter-Nile': 6,\n",
        "                      'Umesh Yadav': 2,\n",
        "                      'Ankit Rajpoot': 4,\n",
        "                      'Extra runs': 7,\n",
        "                      'Total batted': 10},\n",
        "                'MI': {'Lendl Simmons': 3,\n",
        "                      'Parthiv Patel (wk)': 14,\n",
        "                      'Ambati Rayudu': 6,\n",
        "                      'Rohit Sharma (c)': 26,\n",
        "                      'Krunal Pandya': 45,\n",
        "                      'Kieron Pollard': 9,\n",
        "                      'Extra runs': 8,\n",
        "                      'Total batted': 6}}\n"
      ],
      "execution_count": 1,
      "outputs": []
    },
    {
      "cell_type": "code",
      "metadata": {
        "collapsed": true,
        "id": "0LrsGkwuPIfz"
      },
      "source": [
        "#Question 1:\n",
        "#Clean the data and delete any entry from the dictionary that would impact your finding the total score later \n",
        "#(hint: do you get total score if you add all the runs?)\n",
        "for dictionary in qualifier_2.keys():\n",
        "  \n",
        "  del qualifier_2[dictionary]['Total batted']\n",
        "\n"
      ],
      "execution_count": 2,
      "outputs": []
    },
    {
      "cell_type": "code",
      "metadata": {
        "collapsed": true,
        "id": "EFgTP3vkPIfz"
      },
      "source": [
        "#Question 2:\n",
        "#Create 4 lists consisting of names and lastnames of players: kkr_name, kkr_lastname, mi_name, mi_last and delete any entries\n",
        "#in the lists that don't reflect player names.\n",
        "#They should look like: print(kkr_name) ['Chris', 'Sunil', 'Gautam'] etc.\n",
        "\n",
        "kkr_name = []\n",
        "kkr_lastname = []\n",
        "\n",
        "mi_name = []\n",
        "mi_last = []\n",
        "\n",
        "for player in qualifier_2['KKR']:\n",
        "  first, last, *_ = player.split(' ')\n",
        "\n",
        "  kkr_name.append(first)\n",
        "  kkr_lastname.append(last)\n",
        "\n",
        "for player in qualifier_2['MI']:\n",
        "  first,last, *_ = player.split(' ')\n",
        "  \n",
        "  mi_name.append(first)\n",
        "  mi_last.append(last)\n",
        "\n",
        "\n",
        "\n",
        "\n",
        "\n",
        "\n",
        "\n",
        "\n",
        "\n",
        "\n",
        "\n",
        "\n"
      ],
      "execution_count": 3,
      "outputs": []
    },
    {
      "cell_type": "code",
      "metadata": {
        "collapsed": true,
        "colab": {
          "base_uri": "https://localhost:8080/"
        },
        "id": "gCsL07w7PIfz",
        "outputId": "19f4b20a-b6db-4100-e847-de9ac17e3960"
      },
      "source": [
        "#Question 3:\n",
        "# Write a function that takes dictionary and team as an argument and returns the total runs\n",
        "# Test case:\n",
        "# print(total_runs(qualifier_2, 'KKR')) should print 107\n",
        "\n",
        "def total_runs(dictionary, team):\n",
        "\n",
        "  sum1 = 0\n",
        "\n",
        "  for name, run in dictionary[team].items():\n",
        "    sum1 += run \n",
        "\n",
        "  return sum1\n",
        "\n",
        "\n",
        "print(total_runs(qualifier_2, 'KKR'))\n",
        "\n",
        "\n"
      ],
      "execution_count": 4,
      "outputs": [
        {
          "output_type": "stream",
          "text": [
            "107\n"
          ],
          "name": "stdout"
        }
      ]
    },
    {
      "cell_type": "code",
      "metadata": {
        "collapsed": true,
        "colab": {
          "base_uri": "https://localhost:8080/",
          "height": 35
        },
        "id": "Gb4vfLojPIfz",
        "outputId": "8dd4a8b9-733a-4f2f-c0fb-7ee44054145c"
      },
      "source": [
        "#Question 4:\n",
        "#.Write a function that takes dictionary and returns the name of the winning team.\n",
        "# Test case:\n",
        "# winner(qualifier_2) should print 'MI'\n",
        "\n",
        "def winner(dictionary):\n",
        "\n",
        "  teams = list(dictionary.keys())\n",
        "  if total_runs(dictionary,teams[0]) > total_runs(dictionary,teams[1]):\n",
        "\n",
        "    return teams[0]\n",
        "  elif total_runs(dictionary,teams[0]) < total_runs(dictionary,teams[1]):\n",
        "    return teams[1]\n",
        "\n",
        "winner(qualifier_2)\n",
        "\n",
        "\n",
        "\n",
        "\n"
      ],
      "execution_count": 5,
      "outputs": [
        {
          "output_type": "execute_result",
          "data": {
            "application/vnd.google.colaboratory.intrinsic+json": {
              "type": "string"
            },
            "text/plain": [
              "'MI'"
            ]
          },
          "metadata": {
            "tags": []
          },
          "execution_count": 5
        }
      ]
    },
    {
      "cell_type": "code",
      "metadata": {
        "collapsed": true,
        "colab": {
          "base_uri": "https://localhost:8080/"
        },
        "id": "xVHiJkNbPIfz",
        "outputId": "b7b53165-2b80-4e3f-e670-110c49d7817f"
      },
      "source": [
        "#Question 5:\n",
        "#Write a function that returns the name of the team that gave maximum extra runs. \n",
        "#If the extra runs are same for both the teams, the function should print('Both team bowlers equally sloppy')\n",
        "# Test case:\n",
        "#print(sloppy_bowlers(qualifier_2)) should print 'MI'\n",
        "\n",
        "\n",
        "def sloppy_bowlers(dictionary):\n",
        "\n",
        "  teams = list(dictionary.keys())\n",
        "\n",
        "  if dictionary[teams[0]]['Extra runs'] > dictionary[teams[1]]['Extra runs']:\n",
        "    return teams[0]\n",
        "  elif dictionary[teams[0]]['Extra runs'] < dictionary[teams[1]]['Extra runs']:\n",
        "    return teams[1]\n",
        "\n",
        "  else:\n",
        "    return \"Both team bowlers equally sloppy\"\n",
        "\n",
        "print(sloppy_bowlers(qualifier_2))\n",
        "\n",
        "\n",
        "\n",
        "\n"
      ],
      "execution_count": 6,
      "outputs": [
        {
          "output_type": "stream",
          "text": [
            "MI\n"
          ],
          "name": "stdout"
        }
      ]
    },
    {
      "cell_type": "code",
      "metadata": {
        "collapsed": true,
        "id": "0t4g9vAYPIf0",
        "colab": {
          "base_uri": "https://localhost:8080/"
        },
        "outputId": "aa9547e0-3a5b-4613-dcc5-fd9c4055a00e"
      },
      "source": [
        "#Question 6:\n",
        "# Given the list kkr_runs = [4, 10, 12, 1, 28, 0, 31, 2, 6, 2, 4], \n",
        "# print \"good job\" if the score is more than 30, \n",
        "# \"YOu can do better\" if the score is greater than 20 but less than 30,\n",
        "# \"Ok you did something\" if the score is more than 10 and less than or equal to 20,\n",
        "# \"Duck\" if its 0,\n",
        "# \"Come on!\" if its more than 0 and less than or equal to 10\n",
        "\n",
        "kkr_runs = [4, 10, 12, 1, 28, 0, 31, 2, 6, 2, 4]\n",
        "\n",
        "for runs in kkr_runs:\n",
        "\n",
        "  if runs  > 30:\n",
        "    print(\"good job\")\n",
        "  if 20 <runs < 30:\n",
        "    print(\"You can do better\")\n",
        "  if 10 < runs <=20:\n",
        "    print(\"Ok you did something\")\n",
        "  if runs == 0:\n",
        "    print(\"DUCK!\")\n",
        "  if 0 < runs <= 10:\n",
        "    print(\"come oy!\")\n",
        "\n",
        "\n",
        "\n",
        "\n",
        "\n",
        "\n",
        "\n"
      ],
      "execution_count": 7,
      "outputs": [
        {
          "output_type": "stream",
          "text": [
            "come oy!\n",
            "come oy!\n",
            "Ok you did something\n",
            "come oy!\n",
            "You can do better\n",
            "DUCK!\n",
            "good job\n",
            "come oy!\n",
            "come oy!\n",
            "come oy!\n",
            "come oy!\n"
          ],
          "name": "stdout"
        }
      ]
    },
    {
      "cell_type": "code",
      "metadata": {
        "collapsed": true,
        "id": "ryBGf5jEPIf0",
        "colab": {
          "base_uri": "https://localhost:8080/"
        },
        "outputId": "9e0e51c8-fde1-4d8f-fd99-c0e1ac5181c6"
      },
      "source": [
        "#Question 7:\n",
        "# Ask the user to enter two numbers. Print all numbers between these two numbers, both numbers included. \n",
        "# The numbers could be in any order. Use while loop\n",
        "# If both the numbers are same, print \"duh\".\n",
        "\n",
        "\n",
        "num1 = int(input(\"please eter a number\"))\n",
        "num2 = int(input(\"Now another number please\"))\n",
        "\n",
        "\n",
        "\n",
        "if num1 ==num2:\n",
        "  print(\"duh!\")\n",
        "else:\n",
        "  if num1 < num2:\n",
        "    start = num1\n",
        "    stop = num2\n",
        "  else:\n",
        "    start = num2\n",
        "    stop = num1\n",
        "\n",
        "  current_num = start\n",
        "  while True: \n",
        "    print(current_num)\n",
        "    if current_num == stop:\n",
        "      break\n",
        "    else:\n",
        "      current_num += 1\n",
        "\n",
        "\n",
        "\n"
      ],
      "execution_count": 4,
      "outputs": [
        {
          "output_type": "stream",
          "text": [
            "please eter a number23\n",
            "Now another number please12\n",
            "12\n",
            "13\n",
            "14\n",
            "15\n",
            "16\n",
            "17\n",
            "18\n",
            "19\n",
            "20\n",
            "21\n",
            "22\n",
            "23\n"
          ],
          "name": "stdout"
        }
      ]
    },
    {
      "cell_type": "markdown",
      "metadata": {
        "id": "CcI4-Xm7PIf0"
      },
      "source": [
        "Extra credits:"
      ]
    },
    {
      "cell_type": "code",
      "metadata": {
        "collapsed": true,
        "id": "g-dZtZl0PIf0",
        "colab": {
          "base_uri": "https://localhost:8080/"
        },
        "outputId": "60fbf1ce-f31f-4f3b-c3ef-1ad897b1313e"
      },
      "source": [
        "#Question 8:\n",
        "#Generate a random number using following code\n",
        "import random\n",
        "random_number = random.randint(0, 10)\n",
        "#Now keep asking the user to guess the number. If user's guess is more than the random number, print ('Go low'),\n",
        "#if user's guess is less than the random number, print ('Go high'),\n",
        "#when user makes the right guess, print ('Congratulations') and stop the loop\n",
        "\n",
        "while True:\n",
        "\n",
        "  user_num = int(input(\"enter number...\"))\n",
        "\n",
        "  if user_num == random_number:\n",
        "    print(\"Congratulations!\")\n",
        "    break\n",
        "\n",
        "  elif user_num > random_number:\n",
        "    print(\"Go low\")\n",
        "  elif user_num < random_number:\n",
        "    print(\"Go high!\")\n",
        "    \n"
      ],
      "execution_count": 7,
      "outputs": [
        {
          "output_type": "stream",
          "text": [
            "enter number...6\n",
            "Congratulations!\n"
          ],
          "name": "stdout"
        }
      ]
    },
    {
      "cell_type": "code",
      "metadata": {
        "collapsed": true,
        "id": "WF-Q69MkPIf0",
        "colab": {
          "base_uri": "https://localhost:8080/"
        },
        "outputId": "07a347a3-de7d-454e-814f-1cd4984cee3e"
      },
      "source": [
        "#Question 9:\n",
        "#Given the list of kkr score, return another list kkr_unique with only unique runs (The list would have only a single instance of numbers 4 and 2)\n",
        "kkr_runs = [4, 10, 12, 1, 28, 0, 31, 2, 6, 2, 4]\n",
        "kkr_unique = set()\n",
        "\n",
        "for index, element in enumerate(kkr_runs):\n",
        "  if element in kkr_runs[:index] or element in kkr_runs[index+1:]:\n",
        "    kkr_unique.add(element)\n",
        "kkr_unique = list(kkr_unique)\n",
        "  \n",
        "print(kkr_unique)"
      ],
      "execution_count": 11,
      "outputs": [
        {
          "output_type": "stream",
          "text": [
            "[2, 4]\n"
          ],
          "name": "stdout"
        }
      ]
    },
    {
      "cell_type": "code",
      "metadata": {
        "collapsed": true,
        "id": "tE2p-TB-PIf1"
      },
      "source": [
        "#Question 10:\n",
        "# Write your own sort functin called my_sort() that takes a list as an argument and returns the sorted list.\n",
        "# Test case:\n",
        "# my_sort([3, 14, 6, 26, 45, 9, 8]) should return [3, 6, 8, 9, 14, 26, 45]"
      ],
      "execution_count": null,
      "outputs": []
    },
    {
      "cell_type": "code",
      "metadata": {
        "id": "yRRYuLcQflW9",
        "colab": {
          "base_uri": "https://localhost:8080/"
        },
        "outputId": "bd84b31d-481b-42b1-ad1d-d5c4f1ffd111"
      },
      "source": [
        "def my_sort(list1):\n",
        "\n",
        "  for i in range(len(list1)):\n",
        "    for j in range(0,len(list1)-1):\n",
        "      if list1[j] > list1[j+1]:\n",
        "        list1[j], list1[j+1] = list1[j+1], list1[j]\n",
        "  return list1\n",
        "\n",
        "print(my_sort([3, 14, 6, 26, 45, 9, 8]))\n",
        "\n"
      ],
      "execution_count": 12,
      "outputs": [
        {
          "output_type": "stream",
          "text": [
            "[3, 6, 8, 9, 14, 26, 45]\n"
          ],
          "name": "stdout"
        }
      ]
    },
    {
      "cell_type": "code",
      "metadata": {
        "id": "4vhlbeWo3Utj"
      },
      "source": [
        ""
      ],
      "execution_count": null,
      "outputs": []
    },
    {
      "cell_type": "code",
      "metadata": {
        "id": "PBm-yONS3Uvm"
      },
      "source": [
        ""
      ],
      "execution_count": null,
      "outputs": []
    },
    {
      "cell_type": "code",
      "metadata": {
        "id": "_czKTV5f3Uxv"
      },
      "source": [
        ""
      ],
      "execution_count": null,
      "outputs": []
    },
    {
      "cell_type": "code",
      "metadata": {
        "id": "anwRdqjI3Uzy"
      },
      "source": [
        ""
      ],
      "execution_count": null,
      "outputs": []
    },
    {
      "cell_type": "code",
      "metadata": {
        "id": "LPihTci8fmUQ"
      },
      "source": [
        ""
      ],
      "execution_count": null,
      "outputs": []
    }
  ]
}